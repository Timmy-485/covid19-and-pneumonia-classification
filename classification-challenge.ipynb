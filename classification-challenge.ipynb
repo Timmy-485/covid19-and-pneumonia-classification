{
 "cells": [
  {
   "cell_type": "code",
   "execution_count": 24,
   "id": "dd59229e",
   "metadata": {},
   "outputs": [],
   "source": [
    "import tensorflow as tf\n",
    "from tensorflow import keras\n",
    "from tensorflow.keras.models import Sequential\n",
    "from tensorflow.keras.preprocessing.image import ImageDataGenerator\n",
    "\n",
    "from tensorflow.keras.callbacks import EarlyStopping\n",
    "from tensorflow.keras import layers\n",
    "\n",
    "import matplotlib.pyplot as plt\n",
    "import numpy\n",
    "# import app\n"
   ]
  },
  {
   "cell_type": "code",
   "execution_count": 11,
   "id": "1b02793a",
   "metadata": {},
   "outputs": [
    {
     "name": "stdout",
     "output_type": "stream",
     "text": [
      "Found 251 images belonging to 3 classes.\n",
      "\n",
      "Loading validation data...\n"
     ]
    }
   ],
   "source": [
    "# load data\n",
    "directory = \"Covid19-dataset/train\"\n",
    "class_mode = \"categorical\"\n",
    "color_mode = \"grayscale\"\n",
    "target_size = (256, 256)\n",
    "batch_size = 32\n",
    "\n",
    "training_data_generator = ImageDataGenerator(\n",
    "        rescale=1./255,\n",
    "        zoom_range=0.2,\n",
    "        rotation_range=15,\n",
    "        width_shift_range=0.05,\n",
    "        height_shift_range=0.05\n",
    ")\n",
    "\n",
    "training_iterator = training_data_generator.flow_from_directory(\n",
    "    directory,\n",
    "    class_mode=class_mode,\n",
    "    color_mode=color_mode,\n",
    "    batch_size=batch_size\n",
    ")\n",
    "\n",
    "training_iterator.next()\n",
    "print(\"\\nLoading validation data...\")"
   ]
  },
  {
   "cell_type": "code",
   "execution_count": 12,
   "id": "42cf1b16",
   "metadata": {},
   "outputs": [
    {
     "name": "stdout",
     "output_type": "stream",
     "text": [
      "Found 251 images belonging to 3 classes.\n",
      "\n",
      "Building model...\n"
     ]
    }
   ],
   "source": [
    "# Create validation_data_generator\n",
    "validation_data_generator = ImageDataGenerator(rescale = 1.0/255)\n",
    "\n",
    "# Use validation_data_generator to load the validation data \n",
    "validation_iterator = validation_data_generator.flow_from_directory(\n",
    "    directory,\n",
    "    class_mode=class_mode,\n",
    "    color_mode=color_mode,\n",
    "    batch_size=batch_size\n",
    ")\n",
    "print(\"\\nBuilding model...\")"
   ]
  },
  {
   "cell_type": "code",
   "execution_count": 13,
   "id": "2fa0d1f3",
   "metadata": {},
   "outputs": [
    {
     "name": "stdout",
     "output_type": "stream",
     "text": [
      "Model: \"sequential_1\"\n",
      "_________________________________________________________________\n",
      "Layer (type)                 Output Shape              Param #   \n",
      "=================================================================\n",
      "conv2d_2 (Conv2D)            (None, 84, 84, 5)         130       \n",
      "_________________________________________________________________\n",
      "max_pooling2d_2 (MaxPooling2 (None, 42, 42, 5)         0         \n",
      "_________________________________________________________________\n",
      "conv2d_3 (Conv2D)            (None, 40, 40, 3)         138       \n",
      "_________________________________________________________________\n",
      "max_pooling2d_3 (MaxPooling2 (None, 20, 20, 3)         0         \n",
      "_________________________________________________________________\n",
      "flatten_1 (Flatten)          (None, 1200)              0         \n",
      "_________________________________________________________________\n",
      "dense_1 (Dense)              (None, 3)                 3603      \n",
      "=================================================================\n",
      "Total params: 3,871\n",
      "Trainable params: 3,871\n",
      "Non-trainable params: 0\n",
      "_________________________________________________________________\n",
      "\n",
      "Compiling model...\n"
     ]
    }
   ],
   "source": [
    "# buidling model\n",
    "model = tf.keras.Sequential()\n",
    "\n",
    "# input layer with grayscale input\n",
    "model.add(tf.keras.Input(shape=(256, 256, 1)))\n",
    "\n",
    "# adding convulayed layers with relu function and maxpooling\n",
    "model.add(layers.Conv2D(5, 5, strides=3, activation=\"relu\")) \n",
    "model.add(layers.MaxPooling2D(\n",
    "    pool_size=(2, 2), strides=(2,2)))\n",
    "model.add(layers.Conv2D(3, 3, strides=1, activation=\"relu\")) \n",
    "model.add(layers.MaxPooling2D(\n",
    "    pool_size=(2, 2), strides=(2,2)))\n",
    "\n",
    "model.add(tf.keras.layers.Flatten())\n",
    "# output layer \n",
    "model.add(tf.keras.layers.Dense(3,activation=\"softmax\"))\n",
    "\n",
    "\n",
    "model.summary()\n",
    "print(\"\\nCompiling model...\")\n"
   ]
  },
  {
   "cell_type": "code",
   "execution_count": 14,
   "id": "4cea19d7",
   "metadata": {},
   "outputs": [
    {
     "name": "stdout",
     "output_type": "stream",
     "text": [
      "\n",
      "Training model...\n"
     ]
    }
   ],
   "source": [
    "# compile model\n",
    "model.compile(\n",
    "   optimizer=tf.keras.optimizers.Adam(learning_rate=0.005),\n",
    "   loss=tf.keras.losses.CategoricalCrossentropy(),\n",
    "   metrics=[tf.keras.metrics.CategoricalAccuracy(),tf.keras.metrics.AUC()]\n",
    ")\n",
    "print(\"\\nTraining model...\")"
   ]
  },
  {
   "cell_type": "code",
   "execution_count": 18,
   "id": "6e465d2c",
   "metadata": {},
   "outputs": [
    {
     "name": "stdout",
     "output_type": "stream",
     "text": [
      "Epoch 1/5\n",
      "7/7 [==============================] - 2s 322ms/step - loss: 0.3774 - categorical_accuracy: 0.8406 - auc_1: 0.9609 - val_loss: 0.2441 - val_categorical_accuracy: 0.9084 - val_auc_1: 0.9826\n",
      "Epoch 2/5\n",
      "7/7 [==============================] - 2s 243ms/step - loss: 0.3190 - categorical_accuracy: 0.8805 - auc_1: 0.9700 - val_loss: 0.2265 - val_categorical_accuracy: 0.9163 - val_auc_1: 0.9844\n",
      "Epoch 3/5\n",
      "7/7 [==============================] - 2s 250ms/step - loss: 0.3452 - categorical_accuracy: 0.8765 - auc_1: 0.9660 - val_loss: 0.2368 - val_categorical_accuracy: 0.9124 - val_auc_1: 0.9843\n",
      "Epoch 4/5\n",
      "7/7 [==============================] - 2s 244ms/step - loss: 0.2496 - categorical_accuracy: 0.8964 - auc_1: 0.9844 - val_loss: 0.1915 - val_categorical_accuracy: 0.9402 - val_auc_1: 0.9903\n",
      "Epoch 5/5\n",
      "7/7 [==============================] - 2s 269ms/step - loss: 0.2823 - categorical_accuracy: 0.8845 - auc_1: 0.9769 - val_loss: 0.2398 - val_categorical_accuracy: 0.9084 - val_auc_1: 0.9828\n"
     ]
    }
   ],
   "source": [
    "# fitting model\n",
    "history = model.fit(\n",
    "       training_iterator,\n",
    "       steps_per_epoch=training_iterator.samples/batch_size,\n",
    "       epochs=5,\n",
    "       validation_data=validation_iterator,\n",
    "       validation_steps=validation_iterator.samples/batch_size\n",
    ")\n"
   ]
  },
  {
   "cell_type": "code",
   "execution_count": 22,
   "id": "7d628239",
   "metadata": {},
   "outputs": [
    {
     "data": {
      "text/plain": [
       "<keras.callbacks.History at 0x20abdde77c0>"
      ]
     },
     "execution_count": 22,
     "metadata": {},
     "output_type": "execute_result"
    }
   ],
   "source": []
  },
  {
   "cell_type": "code",
   "execution_count": 26,
   "id": "39192f8f",
   "metadata": {},
   "outputs": [],
   "source": [
    "# plotting categorical and validation accuracy over epochs\n",
    "# fig = plt.figure()\n",
    "# ax1 = fig.add_subplot(2, 1, 1)\n",
    "# ax1.plot(history.history['categorical_accuracy'])\n",
    "# ax1.plot(history.history['val_categorical_accuracy'])\n",
    "# ax1.set_title('model accuracy')\n",
    "# ax1.set_xlabel('epoch')\n",
    "# ax1.set_ylabel('accuracy')\n",
    "# ax1.legend(['train', 'validation'], loc='upper left')\n",
    "\n",
    "# # plotting auc and validation auc over epochs\n",
    "# ax2 = fig.add_subplot(2, 1, 2)\n",
    "# ax2.plot(history.history['auc'])\n",
    "# ax2.plot(history.history['val_auc'])\n",
    "# ax2.set_title('model auc')\n",
    "# ax2.set_xlabel('epoch')\n",
    "# ax2.set_ylabel('auc')\n",
    "# ax2.legend(['train', 'validation'], loc='upper left')\n",
    "\n",
    "# plt.show()\n",
    "\n",
    "\n",
    "\n",
    "# test_steps_per_epoch = numpy.math.ceil(validation_iterator.samples / validation_iterator.batch_size)\n",
    "# predictions = model.predict(validation_iterator, steps=test_steps_per_epoch)\n",
    "# test_steps_per_epoch = numpy.math.ceil(validation_iterator.samples / validation_iterator.batch_size)\n",
    "# predicted_classes = numpy.argmax(predictions, axis=1)\n",
    "# true_classes = validation_iterator.classes\n",
    "# class_labels = list(validation_iterator.class_indices.keys())\n",
    "# report = classification_report(true_classes, predicted_classes, target_names=class_labels)\n",
    "# print(report)   \n",
    "\n",
    "# cm=confusion_matrix(true_classes,predicted_classes)\n",
    "# print(cm)\n",
    "\n",
    "\n",
    "\n"
   ]
  }
 ],
 "metadata": {
  "kernelspec": {
   "display_name": "Python 3",
   "language": "python",
   "name": "python3"
  },
  "language_info": {
   "codemirror_mode": {
    "name": "ipython",
    "version": 3
   },
   "file_extension": ".py",
   "mimetype": "text/x-python",
   "name": "python",
   "nbconvert_exporter": "python",
   "pygments_lexer": "ipython3",
   "version": "3.8.8"
  }
 },
 "nbformat": 4,
 "nbformat_minor": 5
}
